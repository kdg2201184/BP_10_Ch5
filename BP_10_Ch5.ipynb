{
  "nbformat": 4,
  "nbformat_minor": 0,
  "metadata": {
    "colab": {
      "provenance": [],
      "authorship_tag": "ABX9TyPSDPxnM1wcWUrF0lwT+Xzs",
      "include_colab_link": true
    },
    "kernelspec": {
      "name": "python3",
      "display_name": "Python 3"
    },
    "language_info": {
      "name": "python"
    }
  },
  "cells": [
    {
      "cell_type": "markdown",
      "metadata": {
        "id": "view-in-github",
        "colab_type": "text"
      },
      "source": [
        "<a href=\"https://colab.research.google.com/github/kdg2201184/BP_10_Ch5/blob/main/BP_10_Ch5.ipynb\" target=\"_parent\"><img src=\"https://colab.research.google.com/assets/colab-badge.svg\" alt=\"Open In Colab\"/></a>"
      ]
    },
    {
      "cell_type": "code",
      "execution_count": 4,
      "metadata": {
        "colab": {
          "base_uri": "https://localhost:8080/"
        },
        "id": "TkgeNZe_5u-X",
        "outputId": "cee949a4-0ea0-4d27-d24e-1dbc9311a271"
      },
      "outputs": [
        {
          "output_type": "stream",
          "name": "stdout",
          "text": [
            "현재 당신의 나이를 입력하시오: 20\n",
            "20살 이상\n"
          ]
        }
      ],
      "source": [
        "age = int(input(\"현재 당신의 나이를 입력하시오: \")) #값을 입력하여 age로 사용될 수 있도록 한다.\n",
        "\n",
        "if age < 20: #age의 값이 20살 미만이라는 조건\n",
        "  print('20살 미만') #조건 충족시 나오는 결과\n",
        "else: #조건에 해당하지 않는 모든 값\n",
        "  print('20살 이상') #age의 값이 if 조건에 충족하지 않을 때 나오는 결과"
      ]
    },
    {
      "cell_type": "code",
      "source": [
        "age = int(input(\"현재 당신의 나이를 입력하시오: \"))\n",
        "\n",
        "if age >= 30 and age <= 50: #age의 값이 30 이상이고 50 이하라는 조건\n",
        "#논리 연산자 and를 사용해 두 조건을 하나로 합쳤다.\n",
        "  print('30살 이상이고 50살 이하')\n",
        "elif age < 30: #if 조건과는 별개의, age의 값이 30 이하라는 조건\n",
        "  print('30살 미만') #temp의 값이 elif라는 조건을 충족하는 경우에 나오는 결과\n",
        "else:\n",
        "  print('50살 초과')"
      ],
      "metadata": {
        "colab": {
          "base_uri": "https://localhost:8080/"
        },
        "id": "amUb3jeJ7SFQ",
        "outputId": "6db77e74-aca0-4428-b40d-6b16a0ec2047"
      },
      "execution_count": 3,
      "outputs": [
        {
          "output_type": "stream",
          "name": "stdout",
          "text": [
            "현재 당신의 나이를 입력하시오: 20\n",
            "30살 미만\n"
          ]
        }
      ]
    },
    {
      "cell_type": "code",
      "source": [
        "temp = int(input(\"현재 온도를 입력하시오: \")) #값을 입력하여 temp로 사용될 수 있도록 한다.\n",
        "\n",
        "if temp >= 25: #temp의 값이 25 이상이라는 조건\n",
        "  print(\"반바지를 입으세요.\")#조건 충족시 나오는 결과\n",
        "else: #조건에 해당하지 않는 모든 값\n",
        "  print(\"긴바지를 입으세요.\") #temp의 값이 if 조건에 충족하지 않을 때 나오는 결과"
      ],
      "metadata": {
        "colab": {
          "base_uri": "https://localhost:8080/"
        },
        "id": "xeZPgsf_8N-V",
        "outputId": "92df8156-3ea6-4ba5-e7b8-14743dc62faf"
      },
      "execution_count": 5,
      "outputs": [
        {
          "output_type": "stream",
          "name": "stdout",
          "text": [
            "현재 온도를 입력하시오: 10\n",
            "긴바지를 입으세요.\n"
          ]
        }
      ]
    },
    {
      "cell_type": "code",
      "source": [
        "score = int(input(\"성적을 입력하시오: \")) #값을 입력하여 score로 사용될 수 있도록 한다.\n",
        "\n",
        "if score >= 90:\n",
        "  print(\"A학점입니다.\") #조건대로 score의 값이 90 이상일 때의 결과\n",
        "elif score >= 80: #if 조건과는 별개의 추가 조건\n",
        "  print(\"B학점입니다.\") #값이 90 미만 80 이상일 때의 결과\n",
        "elif score >= 70: #if 조건과는 별개의 추가 조건\n",
        "  print(\"C학점입니다.\") #값이 80 미만 70 이상일 때의 결과\n",
        "elif score >= 60: #if 조건과는 별개의 추가 조건\n",
        "  print(\"D학점입니다.\") #값이 70 미만 60 이상일 때의 결과\n",
        "else: #앞선 모든 조건들에 해당되지 않는 값의 경우\n",
        "  print(\"F학점입니다.\")"
      ],
      "metadata": {
        "colab": {
          "base_uri": "https://localhost:8080/"
        },
        "id": "30tJGL_a9x-Q",
        "outputId": "48553978-5fcd-4dd2-d2a9-6057b6c4d999"
      },
      "execution_count": 7,
      "outputs": [
        {
          "output_type": "stream",
          "name": "stdout",
          "text": [
            "성적을 입력하시오: 99\n",
            "A학점입니다.\n"
          ]
        }
      ]
    },
    {
      "cell_type": "code",
      "source": [
        "import random #난수를 사용하는 프로그램임을 말해주는 것 같다.\n",
        "x = random.randint(1,100) #난수로 사용될 변수 X의 범위가 1부터 100까지임을 설정한다.\n",
        "y = random.randint(1,100) #난수로 사용될 변수 y의 범위가 1부터 100까지임을 설정한다.\n",
        "\n",
        "ans = int(input(str(x) + \"-\" + str(y) + \"=\"))\n",
        "#랜덤한 값 x에서 랜덤한 값 y를 빼는 수식이 ans로 사용될 수 있도록 한다.\n",
        "\n",
        "if ans == x - y : #x에서 y를 뺀 값이 올바를 때의 조건\n",
        "  print(\"맞았습니다.\")\n",
        "else : #x에서 y를 뺀 값이 틀렸을 때의 조건\n",
        "  print(\"틀렸습니다.\")"
      ],
      "metadata": {
        "colab": {
          "base_uri": "https://localhost:8080/"
        },
        "id": "T67Qukel_4lc",
        "outputId": "643b8d80-d84c-43b7-f84c-f83373498d6e"
      },
      "execution_count": 10,
      "outputs": [
        {
          "output_type": "stream",
          "name": "stdout",
          "text": [
            "98-20=78\n",
            "맞았습니다.\n"
          ]
        }
      ]
    },
    {
      "cell_type": "code",
      "source": [
        "n = int(input(\"정수를 입력하시오: \")) #값을 입력하여 n으로 사용될 수 있도록 한다.\n",
        "\n",
        "if n%2==0 and n%3==0: #n의 값이 2와 3으로 각각 나누어 떨어지는지 묻는 조건\n",
        "#n%(숫자)==0은 n이 숫자로 나누어떨어짐을 말한다.\n",
        "  print(\"2와 3으로 나누어 떨어집니다.\") #조건 충족시의 결과\n",
        "else: #조건에 해당하지 않는 모든 경우\n",
        "  print(\"2와 3으로 나누어 떨어지지 않습니다.\")"
      ],
      "metadata": {
        "colab": {
          "base_uri": "https://localhost:8080/"
        },
        "id": "rDNx5QXYA_SZ",
        "outputId": "911d88cb-b241-466d-847b-58268573b600"
      },
      "execution_count": 13,
      "outputs": [
        {
          "output_type": "stream",
          "name": "stdout",
          "text": [
            "정수를 입력하시오: 6\n",
            "2와 3으로 나누어 떨어집니다.\n"
          ]
        }
      ]
    },
    {
      "cell_type": "code",
      "source": [
        "import random\n",
        "\n",
        "solution = random.randint(0, 99) #solution의 범위는 0에서 99까지\n",
        "\n",
        "user = int(input(\"복권번호를 입력하시오(0에서 99 사이): \"))\n",
        "#내가 입력하는 0에서 99까지의 값이 user로 사용된다.\n",
        "\n",
        "digit1 = solution // 10 #시스템이 결정하는 첫 번째 자릿수\n",
        "digit2 = solution % 10 #시스템이 결정하는 두 번째 자릿수\n",
        "\n",
        "u_digit1 = user // 10 #내가 입력한 값의 첫 번째 자릿수\n",
        "u_digit2 = user % 10 #내가 입력한 값의 두 번째 자릿수\n",
        "\n",
        "print(\"당첨번호는\", solution, \"입니다.\") #solution의 값을 알려준다.\n",
        "\n",
        "if(digit1 == u_digit1 and digit2 == u_digit2): #solution과 user가 일치할 때\n",
        "  print(\"상금은 100만원입니다.\")\n",
        "elif(digit1 == u_digit1\n",
        "     or digit1 == u_digit2\n",
        "     or digit2 == u_digit1\n",
        "     or digit2 == u_digit2): #if 조건과는 별개의 조건\n",
        "  print(\"상금은 50만원입니다.\")\n",
        "else: #solution과 user가 완전 불일치할 때\n",
        "  print(\"상금은 없습니다.\")"
      ],
      "metadata": {
        "colab": {
          "base_uri": "https://localhost:8080/"
        },
        "id": "uGbjpOgzC-qO",
        "outputId": "ed0be8e6-4642-4c3b-87d9-863a567139e9"
      },
      "execution_count": 18,
      "outputs": [
        {
          "output_type": "stream",
          "name": "stdout",
          "text": [
            "복권번호를 입력하시오(0에서 99 사이): 91\n",
            "당첨번호는 38 입니다.\n",
            "상금은 없습니다.\n"
          ]
        }
      ]
    },
    {
      "cell_type": "code",
      "source": [
        "import math\n",
        "import turtle \n",
        "t = turtle.Turtle()\n",
        "t.shape(\"turtle\") \n",
        "\n",
        "x1 = int(input(\"큰 원의 중심좌표 x1: \"))\n",
        "y1 = int(input(\"큰 원의 중심좌표 y1: \"))\n",
        "r1 = int(input(\"큰 원의 반지름 r1: \"))\n",
        "x2 = int(input(\"작은 원의 중심좌표 x2: \"))\n",
        "y2 = int(input(\"작은 원의 중심좌표 y2: \"))\n",
        "r2 = int(input(\"작은 원의 반지름 r2: \"))\n",
        "#큰 원과 작은 원의 중심좌표와 반지름 설정\n",
        "\n",
        "t.penup() #거북이가 선을 긋지 않도록 한다.\n",
        "t.goto(x1, y1) #큰 원의 중심좌표로 거북이를 이동\n",
        "t.pendown() #거북이가 선을 긋도록 한다.\n",
        "t.circle(r1) #중심좌표와 반지름을 이용해 거북이가 큰 원을 그리게 한다.\n",
        "\n",
        "t.penup()\n",
        "t.goto(x2, y2) #작은 원의 중심좌표로 거북이를 이동\n",
        "t.pendown()\n",
        "t.circle(r2) #중심좌표와 반지름을 이용해 거북이가 작은 원을 그리게 한다.\n",
        "\n",
        "dist = ((x1 - x2) * (x1 - x2) + (y1 - y2) * (y1 - y2)) ** 0.5\n",
        "#dist의 값을 설정하기 위한 수식\n",
        "\n",
        "if dist <= r1 - r2:\n",
        "\tturtle.write(\"두 번째 원이 첫 번째 원의 내부에 있습니다.\") #해당조건 충족 시의 결과\n",
        "elif dist <= r1 + r2:\t\n",
        "\tturtle.write(\"두 번째 원이 첫 번째 원과 겹칩니다.\") #해당조건 충족 시의 결과\n",
        "else:\n",
        "\tturtle.write(\"두 번째 원이 첫 번째 원과 겹치지 않습니다.\") #두 조건을 충족시키지 못할 때의 결과\n",
        "\n",
        "t._screen.extionclick() #화면을 마우스로 클릭해야 종료되게 하는 부분"
      ],
      "metadata": {
        "id": "YUzO8UH-Gadj"
      },
      "execution_count": null,
      "outputs": []
    }
  ]
}